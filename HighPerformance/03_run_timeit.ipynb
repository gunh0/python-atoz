{
 "cells": [
  {
   "cell_type": "markdown",
   "metadata": {},
   "source": [
    "# Julia Set Generator with Timing Measurements\n",
    "\n",
    "This notebook demonstrates different ways to measure execution time of our Julia Set generator, including using the timeit module from the command line."
   ]
  },
  {
   "cell_type": "code",
   "execution_count": 4,
   "metadata": {},
   "outputs": [
    {
     "name": "stdout",
     "output_type": "stream",
     "text": [
      "Length of x: 1000\n",
      "Total elements: 1000000\n",
      "@timefn: calculate_z_serial_purepython took 3.69 seconds\n",
      "calculate_z_serial_purepython took 3.69 seconds\n",
      "Figure(1000x1000)\n",
      "Length of x: 1000\n",
      "Total elements: 1000000\n",
      "@timefn: calculate_z_serial_purepython took 3.64 seconds\n",
      "calculate_z_serial_purepython took 3.64 seconds\n",
      "Figure(1000x1000)\n",
      "Length of x: 1000\n",
      "Total elements: 1000000\n",
      "@timefn: calculate_z_serial_purepython took 3.64 seconds\n",
      "calculate_z_serial_purepython took 3.64 seconds\n",
      "Figure(1000x1000)\n",
      "Length of x: 1000\n",
      "Total elements: 1000000\n",
      "@timefn: calculate_z_serial_purepython took 3.64 seconds\n",
      "calculate_z_serial_purepython took 3.64 seconds\n",
      "Figure(1000x1000)\n",
      "Length of x: 1000\n",
      "Total elements: 1000000\n",
      "@timefn: calculate_z_serial_purepython took 3.65 seconds\n",
      "calculate_z_serial_purepython took 3.65 seconds\n",
      "Figure(1000x1000)\n",
      "5 loops, best of 1: 3.92 sec per loop\n"
     ]
    }
   ],
   "source": [
    "!python -m timeit -n 5 -r 1 -s \"import julia1_nopil\" \"julia1_nopil.calc_pure_python(desired_width=1000, max_iterations=300)\""
   ]
  },
  {
   "cell_type": "markdown",
   "metadata": {},
   "source": [
    "The command above:\n",
    "- Runs 5 loops (`-n 5`)\n",
    "- With 1 repetition (`-r 1`)\n",
    "- Imports julia1_nopil module in setup\n",
    "- Times the execution of calc_pure_python function"
   ]
  }
 ],
 "metadata": {
  "kernelspec": {
   "display_name": "venv",
   "language": "python",
   "name": "python3"
  },
  "language_info": {
   "codemirror_mode": {
    "name": "ipython",
    "version": 3
   },
   "file_extension": ".py",
   "mimetype": "text/x-python",
   "name": "python",
   "nbconvert_exporter": "python",
   "pygments_lexer": "ipython3",
   "version": "3.11.11"
  }
 },
 "nbformat": 4,
 "nbformat_minor": 2
}
